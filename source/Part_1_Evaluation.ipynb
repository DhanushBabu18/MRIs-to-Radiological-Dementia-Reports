{
 "cells": [
  {
   "cell_type": "markdown",
   "id": "2c6dd077",
   "metadata": {},
   "source": [
    "## ROUGE score"
   ]
  },
  {
   "cell_type": "code",
   "execution_count": null,
   "id": "f659f82c",
   "metadata": {},
   "outputs": [],
   "source": [
    "import pandas as pd\n",
    "from IPython.display import display\n",
    "\n",
    "import tkinter as tk\n",
    "from tkinter import filedialog\n",
    "\n",
    "root = tk.Tk()\n",
    "root.withdraw()\n",
    "file_path = filedialog.askopenfilename(title=\"Select  CSV file\")\n",
    "df = pd.read_csv(file_path)\n",
    "\n",
    "display(df.head())\n",
    "def rouge1_precision(reference,candidate):\n",
    "    \"\"\"\n",
    "    ROUGE-1 Precision: How many words in candidate also appear in reference, divided by candidate's length\n",
    "    \"\"\"\n",
    "    cand_tokens = set(candidate.lower().split())\n",
    "    ref_tokens = set(reference.lower().split())\n",
    "    if len(cand_tokens) == 0:\n",
    "        return 0.0\n",
    "    overlap = cand_tokens & ref_tokens\n",
    "    return len(overlap) / len(cand_tokens)\n",
    "\n",
    "\n",
    "df['rouge1_precision'] = df.apply(\n",
    "    lambda row: rouge1_precision(str(row['First_attempt']), str(row['last_attempt'])),\n",
    "    axis=1\n",
    ")\n",
    "\n",
    "df.to_csv(\"ROUGE_Result.csv\", index=False)\n",
    "\n"
   ]
  },
  {
   "cell_type": "markdown",
   "id": "b16acdfe",
   "metadata": {},
   "source": [
    "## BERTScore"
   ]
  },
  {
   "cell_type": "code",
   "execution_count": null,
   "id": "7b43a59c",
   "metadata": {},
   "outputs": [],
   "source": [
    "import pandas as pd\n",
    "from IPython.display import display\n",
    "import random\n",
    "from bert_score import score as bert_score\n",
    "import tkinter as tk\n",
    "from tkinter import filedialog\n",
    "\n",
    "root = tk.Tk()\n",
    "root.withdraw()\n",
    "file_path = filedialog.askopenfilename(title=\"Select  CSV file\")\n",
    "df = pd.read_csv(file_path)\n",
    "\n",
    "\n",
    "candidates = df['First_attempt'].tolist()\n",
    "references = df['last_attempt'].tolist()\n",
    "rows = df['row'].tolist()\n",
    "\n",
    "tokenizer = AutoTokenizer.from_pretrained(\"emilyalsentzer/Bio_ClinicalBERT\")\n",
    "max_len = 510\n",
    "\n",
    "def safe_truncate(text, tokenizer, max_len=510):\n",
    "    tokens = tokenizer.encode(text, add_special_tokens=True)\n",
    "    if len(tokens) > max_len:\n",
    "        # Remove special tokens before truncation if present\n",
    "        tokens = tokens[:max_len]\n",
    "        return tokenizer.decode(tokens, skip_special_tokens=True)\n",
    "    else:\n",
    "        return text\n",
    "    \n",
    "def safe_cast_to_str(x):\n",
    "    if x is None:\n",
    "        return \"\"\n",
    "    try:\n",
    "        s = str(x)\n",
    "        if s.lower() == 'nan':\n",
    "            return \"\"\n",
    "        return s\n",
    "    except Exception:\n",
    "        return \"\"\n",
    "\n",
    "candidates_trunc = [safe_truncate(safe_cast_to_str(t), tokenizer, max_len) for t in candidates]\n",
    "references_trunc = [safe_truncate(safe_cast_to_str(t), tokenizer, max_len) for t in references]\n",
    "\n",
    "P= bert_score(candidates_trunc, references_trunc, lang='en', model_type=\"emilyalsentzer/Bio_ClinicalBERT\", num_layers=12)\n",
    "\n",
    "for i, (p) in enumerate(zip(P)):\n",
    "    print(f\"Row {i}: Precision={p.item():.3f}\")\n",
    "\n",
    "bert_results = pd.DataFrame({\n",
    "    'row': rows,\n",
    "    'BERTScore_Precision': [p.item() for p in P],\n",
    "\n",
    "})\n",
    "\n",
    "# Save to CSV\n",
    "bert_results.to_csv(\"BERTScore_Result.csv\", index=False)\n",
    "\n",
    "\n"
   ]
  }
 ],
 "metadata": {
  "kernelspec": {
   "display_name": "fsl",
   "language": "python",
   "name": "python3"
  },
  "language_info": {
   "codemirror_mode": {
    "name": "ipython",
    "version": 3
   },
   "file_extension": ".py",
   "mimetype": "text/x-python",
   "name": "python",
   "nbconvert_exporter": "python",
   "pygments_lexer": "ipython3",
   "version": "3.12.3"
  }
 },
 "nbformat": 4,
 "nbformat_minor": 5
}
